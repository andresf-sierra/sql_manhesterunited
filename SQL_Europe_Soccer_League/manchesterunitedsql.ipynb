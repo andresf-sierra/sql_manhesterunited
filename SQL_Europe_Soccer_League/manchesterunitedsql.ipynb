{
  "cells": [
    {
      "cell_type": "markdown",
      "source": "# European Football Data Analysis with SQL: Manchester United Performance",
      "metadata": {
        "formattedRanges": [],
        "deepnote_app_block_visible": true,
        "cell_id": "3b193d2b31ed4a3a95c77087e21532ad",
        "deepnote_cell_type": "text-cell-h1"
      },
      "block_group": "d82e5667f8cb495b8ae920563f3976da"
    },
    {
      "cell_type": "markdown",
      "source": "## How many home and away goals did Manchester United score in each season?",
      "metadata": {
        "formattedRanges": [],
        "deepnote_app_block_visible": true,
        "cell_id": "802f91d8ffdc4f959ef696dbd32783c0",
        "deepnote_cell_type": "text-cell-h2"
      },
      "block_group": "33d67ffc624c4c59bba435d37169db9f"
    },
    {
      "cell_type": "code",
      "source": "df_1 = _deepnote_execute_sql('SELECT season,\\n       SUM(CASE WHEN hometeam_id = 10260\\n\t\t     THEN home_goal END) AS home_goals,\\n\t   SUM(CASE WHEN awayteam_id = 10260\\n\t\t     THEN away_goal END) AS away_goals\\nFROM \\'match.csv\\'\\nGROUP BY season;', 'SQL_DEEPNOTE_DATAFRAME_SQL', audit_sql_comment='', sql_cache_mode='cache_disabled')\ndf_1",
      "metadata": {
        "source_hash": null,
        "execution_start": 1710042488384,
        "execution_millis": 448,
        "sql_integration_id": "deepnote-dataframe-sql",
        "deepnote_table_state": {
          "sortBy": [],
          "filters": [],
          "pageSize": 10,
          "pageIndex": 0
        },
        "deepnote_table_loading": false,
        "deepnote_variable_name": "df_1",
        "deepnote_to_be_reexecuted": false,
        "deepnote_app_block_visible": true,
        "cell_id": "2f8a49bcdae549cbaf083711e152de66",
        "deepnote_cell_type": "sql",
        "deepnote_sql_source": "SELECT season,\n       SUM(CASE WHEN hometeam_id = 10260\n\t\t     THEN home_goal END) AS home_goals,\n\t   SUM(CASE WHEN awayteam_id = 10260\n\t\t     THEN away_goal END) AS away_goals\nFROM 'match.csv'\nGROUP BY season;"
      },
      "outputs": [
        {
          "output_type": "execute_result",
          "execution_count": 12,
          "data": {
            "application/vnd.deepnote.dataframe.v3+json": {
              "column_count": 3,
              "row_count": 4,
              "columns": [
                {
                  "name": "season",
                  "dtype": "object",
                  "stats": {
                    "unique_count": 4,
                    "nan_count": 0,
                    "categories": [
                      {
                        "name": "2011/2012",
                        "count": 1
                      },
                      {
                        "name": "2012/2013",
                        "count": 1
                      },
                      {
                        "name": "2 others",
                        "count": 2
                      }
                    ]
                  }
                },
                {
                  "name": "home_goals",
                  "dtype": "float64",
                  "stats": {
                    "unique_count": 4,
                    "nan_count": 0,
                    "min": "29.0",
                    "max": "52.0",
                    "histogram": [
                      {
                        "bin_start": 29,
                        "bin_end": 31.3,
                        "count": 1
                      },
                      {
                        "bin_start": 31.3,
                        "bin_end": 33.6,
                        "count": 0
                      },
                      {
                        "bin_start": 33.6,
                        "bin_end": 35.9,
                        "count": 0
                      },
                      {
                        "bin_start": 35.9,
                        "bin_end": 38.2,
                        "count": 0
                      },
                      {
                        "bin_start": 38.2,
                        "bin_end": 40.5,
                        "count": 0
                      },
                      {
                        "bin_start": 40.5,
                        "bin_end": 42.8,
                        "count": 1
                      },
                      {
                        "bin_start": 42.8,
                        "bin_end": 45.099999999999994,
                        "count": 1
                      },
                      {
                        "bin_start": 45.099999999999994,
                        "bin_end": 47.4,
                        "count": 0
                      },
                      {
                        "bin_start": 47.4,
                        "bin_end": 49.7,
                        "count": 0
                      },
                      {
                        "bin_start": 49.7,
                        "bin_end": 52,
                        "count": 1
                      }
                    ]
                  }
                },
                {
                  "name": "away_goals",
                  "dtype": "float64",
                  "stats": {
                    "unique_count": 4,
                    "nan_count": 0,
                    "min": "21.0",
                    "max": "41.0",
                    "histogram": [
                      {
                        "bin_start": 21,
                        "bin_end": 23,
                        "count": 1
                      },
                      {
                        "bin_start": 23,
                        "bin_end": 25,
                        "count": 0
                      },
                      {
                        "bin_start": 25,
                        "bin_end": 27,
                        "count": 0
                      },
                      {
                        "bin_start": 27,
                        "bin_end": 29,
                        "count": 0
                      },
                      {
                        "bin_start": 29,
                        "bin_end": 31,
                        "count": 0
                      },
                      {
                        "bin_start": 31,
                        "bin_end": 33,
                        "count": 0
                      },
                      {
                        "bin_start": 33,
                        "bin_end": 35,
                        "count": 0
                      },
                      {
                        "bin_start": 35,
                        "bin_end": 37,
                        "count": 1
                      },
                      {
                        "bin_start": 37,
                        "bin_end": 39,
                        "count": 1
                      },
                      {
                        "bin_start": 39,
                        "bin_end": 41,
                        "count": 1
                      }
                    ]
                  }
                },
                {
                  "name": "_deepnote_index_column",
                  "dtype": "int64"
                }
              ],
              "rows": [
                {
                  "season": "2011/2012",
                  "home_goals": 52,
                  "away_goals": 37,
                  "_deepnote_index_column": 0
                },
                {
                  "season": "2012/2013",
                  "home_goals": 45,
                  "away_goals": 41,
                  "_deepnote_index_column": 1
                },
                {
                  "season": "2013/2014",
                  "home_goals": 29,
                  "away_goals": 35,
                  "_deepnote_index_column": 2
                },
                {
                  "season": "2014/2015",
                  "home_goals": 41,
                  "away_goals": 21,
                  "_deepnote_index_column": 3
                }
              ]
            },
            "text/plain": "      season  home_goals  away_goals\n0  2011/2012        52.0        37.0\n1  2012/2013        45.0        41.0\n2  2013/2014        29.0        35.0\n3  2014/2015        41.0        21.0",
            "text/html": "<div>\n<style scoped>\n    .dataframe tbody tr th:only-of-type {\n        vertical-align: middle;\n    }\n\n    .dataframe tbody tr th {\n        vertical-align: top;\n    }\n\n    .dataframe thead th {\n        text-align: right;\n    }\n</style>\n<table border=\"1\" class=\"dataframe\">\n  <thead>\n    <tr style=\"text-align: right;\">\n      <th></th>\n      <th>season</th>\n      <th>home_goals</th>\n      <th>away_goals</th>\n    </tr>\n  </thead>\n  <tbody>\n    <tr>\n      <th>0</th>\n      <td>2011/2012</td>\n      <td>52.0</td>\n      <td>37.0</td>\n    </tr>\n    <tr>\n      <th>1</th>\n      <td>2012/2013</td>\n      <td>45.0</td>\n      <td>41.0</td>\n    </tr>\n    <tr>\n      <th>2</th>\n      <td>2013/2014</td>\n      <td>29.0</td>\n      <td>35.0</td>\n    </tr>\n    <tr>\n      <th>3</th>\n      <td>2014/2015</td>\n      <td>41.0</td>\n      <td>21.0</td>\n    </tr>\n  </tbody>\n</table>\n</div>"
          },
          "metadata": {}
        }
      ],
      "outputs_reference": null,
      "execution_count": null,
      "block_group": "fade32975569463c806f77b9c1be7a81"
    },
    {
      "cell_type": "markdown",
      "source": "In the 2011/2012 season, Manchester United as Home Team scored 52 goals, and as Away Team scored 37 goals. Compared to the seasons of the following years, that was the best and highest-scored home goal.",
      "metadata": {
        "formattedRanges": [
          {
            "type": "marks",
            "marks": {
              "bold": true
            },
            "toCodePoint": 23,
            "fromCodePoint": 7
          },
          {
            "type": "marks",
            "marks": {
              "underline": true
            },
            "toCodePoint": 71,
            "fromCodePoint": 46
          },
          {
            "type": "marks",
            "marks": {
              "underline": true
            },
            "toCodePoint": 105,
            "fromCodePoint": 80
          },
          {
            "type": "marks",
            "marks": {
              "italic": true
            },
            "toCodePoint": 201,
            "fromCodePoint": 177
          }
        ],
        "deepnote_app_block_visible": true,
        "cell_id": "6abef0d7aa9a4c3ea1733c52a8f0cf12",
        "deepnote_cell_type": "text-cell-p"
      },
      "block_group": "db4fd59e1ce8448f8e6a4538d5517cc7"
    },
    {
      "cell_type": "markdown",
      "source": "## How many home and away matches did Manchester United win in each season?",
      "metadata": {
        "formattedRanges": [],
        "deepnote_app_block_visible": true,
        "cell_id": "42e0583db63d4e12b206e0bbb8861d66",
        "deepnote_cell_type": "text-cell-h2"
      },
      "block_group": "d6d66e5918204b1bb8782b3c8dce8034"
    },
    {
      "cell_type": "code",
      "source": "df_3 = _deepnote_execute_sql('SELECT season, \\n       COUNT(CASE WHEN hometeam_id = 10260 AND home_goal > away_goal\\n\t\t\t THEN id END) AS home_wins,\\n\t   COUNT(CASE WHEN awayteam_id = 10260 AND away_goal > home_goal\\n\t\t\t THEN id END) AS away_wins\\nFROM \\'match.csv\\'\\nGROUP BY season;', 'SQL_DEEPNOTE_DATAFRAME_SQL', audit_sql_comment='', sql_cache_mode='cache_disabled')\ndf_3",
      "metadata": {
        "source_hash": null,
        "execution_start": 1710042889837,
        "execution_millis": 468,
        "sql_integration_id": "deepnote-dataframe-sql",
        "deepnote_variable_name": "df_3",
        "deepnote_to_be_reexecuted": false,
        "deepnote_app_block_visible": true,
        "cell_id": "0c5c665daf5b486aa7f77fe05980284f",
        "deepnote_cell_type": "sql",
        "deepnote_sql_source": "SELECT season, \n       COUNT(CASE WHEN hometeam_id = 10260 AND home_goal > away_goal\n\t\t\t THEN id END) AS home_wins,\n\t   COUNT(CASE WHEN awayteam_id = 10260 AND away_goal > home_goal\n\t\t\t THEN id END) AS away_wins\nFROM 'match.csv'\nGROUP BY season;"
      },
      "outputs": [
        {
          "output_type": "execute_result",
          "execution_count": 12,
          "data": {
            "application/vnd.deepnote.dataframe.v3+json": {
              "column_count": 3,
              "row_count": 4,
              "columns": [
                {
                  "name": "season",
                  "dtype": "object",
                  "stats": {
                    "unique_count": 4,
                    "nan_count": 0,
                    "categories": [
                      {
                        "name": "2011/2012",
                        "count": 1
                      },
                      {
                        "name": "2012/2013",
                        "count": 1
                      },
                      {
                        "name": "2 others",
                        "count": 2
                      }
                    ]
                  }
                },
                {
                  "name": "home_wins",
                  "dtype": "int64",
                  "stats": {
                    "unique_count": 4,
                    "nan_count": 0,
                    "min": "9",
                    "max": "16",
                    "histogram": [
                      {
                        "bin_start": 9,
                        "bin_end": 9.7,
                        "count": 1
                      },
                      {
                        "bin_start": 9.7,
                        "bin_end": 10.4,
                        "count": 0
                      },
                      {
                        "bin_start": 10.4,
                        "bin_end": 11.1,
                        "count": 0
                      },
                      {
                        "bin_start": 11.1,
                        "bin_end": 11.8,
                        "count": 0
                      },
                      {
                        "bin_start": 11.8,
                        "bin_end": 12.5,
                        "count": 0
                      },
                      {
                        "bin_start": 12.5,
                        "bin_end": 13.2,
                        "count": 0
                      },
                      {
                        "bin_start": 13.2,
                        "bin_end": 13.899999999999999,
                        "count": 0
                      },
                      {
                        "bin_start": 13.899999999999999,
                        "bin_end": 14.6,
                        "count": 1
                      },
                      {
                        "bin_start": 14.6,
                        "bin_end": 15.3,
                        "count": 1
                      },
                      {
                        "bin_start": 15.3,
                        "bin_end": 16,
                        "count": 1
                      }
                    ]
                  }
                },
                {
                  "name": "away_wins",
                  "dtype": "int64",
                  "stats": {
                    "unique_count": 4,
                    "nan_count": 0,
                    "min": "6",
                    "max": "13",
                    "histogram": [
                      {
                        "bin_start": 6,
                        "bin_end": 6.7,
                        "count": 1
                      },
                      {
                        "bin_start": 6.7,
                        "bin_end": 7.4,
                        "count": 0
                      },
                      {
                        "bin_start": 7.4,
                        "bin_end": 8.1,
                        "count": 0
                      },
                      {
                        "bin_start": 8.1,
                        "bin_end": 8.8,
                        "count": 0
                      },
                      {
                        "bin_start": 8.8,
                        "bin_end": 9.5,
                        "count": 0
                      },
                      {
                        "bin_start": 9.5,
                        "bin_end": 10.2,
                        "count": 1
                      },
                      {
                        "bin_start": 10.2,
                        "bin_end": 10.899999999999999,
                        "count": 0
                      },
                      {
                        "bin_start": 10.899999999999999,
                        "bin_end": 11.6,
                        "count": 0
                      },
                      {
                        "bin_start": 11.6,
                        "bin_end": 12.3,
                        "count": 1
                      },
                      {
                        "bin_start": 12.3,
                        "bin_end": 13,
                        "count": 1
                      }
                    ]
                  }
                },
                {
                  "name": "_deepnote_index_column",
                  "dtype": "int64"
                }
              ],
              "rows": [
                {
                  "season": "2011/2012",
                  "home_wins": 15,
                  "away_wins": 13,
                  "_deepnote_index_column": 0
                },
                {
                  "season": "2012/2013",
                  "home_wins": 16,
                  "away_wins": 12,
                  "_deepnote_index_column": 1
                },
                {
                  "season": "2013/2014",
                  "home_wins": 9,
                  "away_wins": 10,
                  "_deepnote_index_column": 2
                },
                {
                  "season": "2014/2015",
                  "home_wins": 14,
                  "away_wins": 6,
                  "_deepnote_index_column": 3
                }
              ]
            },
            "text/plain": "      season  home_wins  away_wins\n0  2011/2012         15         13\n1  2012/2013         16         12\n2  2013/2014          9         10\n3  2014/2015         14          6",
            "text/html": "<div>\n<style scoped>\n    .dataframe tbody tr th:only-of-type {\n        vertical-align: middle;\n    }\n\n    .dataframe tbody tr th {\n        vertical-align: top;\n    }\n\n    .dataframe thead th {\n        text-align: right;\n    }\n</style>\n<table border=\"1\" class=\"dataframe\">\n  <thead>\n    <tr style=\"text-align: right;\">\n      <th></th>\n      <th>season</th>\n      <th>home_wins</th>\n      <th>away_wins</th>\n    </tr>\n  </thead>\n  <tbody>\n    <tr>\n      <th>0</th>\n      <td>2011/2012</td>\n      <td>15</td>\n      <td>13</td>\n    </tr>\n    <tr>\n      <th>1</th>\n      <td>2012/2013</td>\n      <td>16</td>\n      <td>12</td>\n    </tr>\n    <tr>\n      <th>2</th>\n      <td>2013/2014</td>\n      <td>9</td>\n      <td>10</td>\n    </tr>\n    <tr>\n      <th>3</th>\n      <td>2014/2015</td>\n      <td>14</td>\n      <td>6</td>\n    </tr>\n  </tbody>\n</table>\n</div>"
          },
          "metadata": {}
        }
      ],
      "outputs_reference": null,
      "execution_count": null,
      "block_group": "5a1dcbbd2ff34b368ea9d5b5816d3249"
    },
    {
      "cell_type": "markdown",
      "source": "For the 2012/2013 season, Manchester United won 16 home matches and 12 away matches. This season was Manchester United's best in terms of home and away wins. Whatever, in the previous season, 2011/2012 won just one match more as away team and one less as home team.",
      "metadata": {
        "formattedRanges": [
          {
            "type": "marks",
            "marks": {
              "bold": true
            },
            "toCodePoint": 24,
            "fromCodePoint": 8
          },
          {
            "type": "marks",
            "marks": {
              "underline": true
            },
            "toCodePoint": 63,
            "fromCodePoint": 48
          },
          {
            "type": "marks",
            "marks": {
              "underline": true
            },
            "toCodePoint": 83,
            "fromCodePoint": 68
          }
        ],
        "deepnote_app_block_visible": true,
        "cell_id": "1ae08592175f48b5823aef961eff77a6",
        "deepnote_cell_type": "text-cell-p"
      },
      "block_group": "441dd964a39a4921952d2998ce8720e4"
    },
    {
      "cell_type": "markdown",
      "source": "## What is Manchester United's average number of goals per season?",
      "metadata": {
        "formattedRanges": [],
        "deepnote_app_block_visible": true,
        "cell_id": "1bb7337aac0947e082ee707d8717bb01",
        "deepnote_cell_type": "text-cell-h2"
      },
      "block_group": "fc264ed091eb45d09519df873ed3ee8a"
    },
    {
      "cell_type": "code",
      "source": "df_4 = _deepnote_execute_sql('SELECT season,\\n       ROUND(AVG(CASE WHEN hometeam_id = 10260\\n\t\t        THEN home_goal END),2) AS avg_homegoals,\\n\t   ROUND(AVG(CASE WHEN awayteam_id = 10260\\n\t\t\t\tTHEN away_goal END),2) AS avg_awaygoals\\nFROM \\'match.csv\\'\\nGROUP BY season;', 'SQL_DEEPNOTE_DATAFRAME_SQL', audit_sql_comment='', sql_cache_mode='cache_disabled')\ndf_4",
      "metadata": {
        "source_hash": null,
        "execution_start": 1710043779156,
        "execution_millis": 489,
        "sql_integration_id": "deepnote-dataframe-sql",
        "deepnote_variable_name": "df_4",
        "deepnote_to_be_reexecuted": false,
        "deepnote_app_block_visible": true,
        "cell_id": "d116e56288364cfcb74c55851edc0ded",
        "deepnote_cell_type": "sql",
        "deepnote_sql_source": "SELECT season,\n       ROUND(AVG(CASE WHEN hometeam_id = 10260\n\t\t        THEN home_goal END),2) AS avg_homegoals,\n\t   ROUND(AVG(CASE WHEN awayteam_id = 10260\n\t\t\t\tTHEN away_goal END),2) AS avg_awaygoals\nFROM 'match.csv'\nGROUP BY season;"
      },
      "outputs": [
        {
          "output_type": "execute_result",
          "execution_count": 13,
          "data": {
            "application/vnd.deepnote.dataframe.v3+json": {
              "column_count": 3,
              "row_count": 4,
              "columns": [
                {
                  "name": "season",
                  "dtype": "object",
                  "stats": {
                    "unique_count": 4,
                    "nan_count": 0,
                    "categories": [
                      {
                        "name": "2011/2012",
                        "count": 1
                      },
                      {
                        "name": "2012/2013",
                        "count": 1
                      },
                      {
                        "name": "2 others",
                        "count": 2
                      }
                    ]
                  }
                },
                {
                  "name": "avg_homegoals",
                  "dtype": "float64",
                  "stats": {
                    "unique_count": 4,
                    "nan_count": 0,
                    "min": "1.53",
                    "max": "2.74",
                    "histogram": [
                      {
                        "bin_start": 1.53,
                        "bin_end": 1.651,
                        "count": 1
                      },
                      {
                        "bin_start": 1.651,
                        "bin_end": 1.772,
                        "count": 0
                      },
                      {
                        "bin_start": 1.772,
                        "bin_end": 1.8930000000000002,
                        "count": 0
                      },
                      {
                        "bin_start": 1.8930000000000002,
                        "bin_end": 2.0140000000000002,
                        "count": 0
                      },
                      {
                        "bin_start": 2.0140000000000002,
                        "bin_end": 2.1350000000000002,
                        "count": 0
                      },
                      {
                        "bin_start": 2.1350000000000002,
                        "bin_end": 2.2560000000000002,
                        "count": 1
                      },
                      {
                        "bin_start": 2.2560000000000002,
                        "bin_end": 2.3770000000000002,
                        "count": 1
                      },
                      {
                        "bin_start": 2.3770000000000002,
                        "bin_end": 2.498,
                        "count": 0
                      },
                      {
                        "bin_start": 2.498,
                        "bin_end": 2.619,
                        "count": 0
                      },
                      {
                        "bin_start": 2.619,
                        "bin_end": 2.74,
                        "count": 1
                      }
                    ]
                  }
                },
                {
                  "name": "avg_awaygoals",
                  "dtype": "float64",
                  "stats": {
                    "unique_count": 4,
                    "nan_count": 0,
                    "min": "1.11",
                    "max": "2.16",
                    "histogram": [
                      {
                        "bin_start": 1.11,
                        "bin_end": 1.215,
                        "count": 1
                      },
                      {
                        "bin_start": 1.215,
                        "bin_end": 1.32,
                        "count": 0
                      },
                      {
                        "bin_start": 1.32,
                        "bin_end": 1.4250000000000003,
                        "count": 0
                      },
                      {
                        "bin_start": 1.4250000000000003,
                        "bin_end": 1.5300000000000002,
                        "count": 0
                      },
                      {
                        "bin_start": 1.5300000000000002,
                        "bin_end": 1.6350000000000002,
                        "count": 0
                      },
                      {
                        "bin_start": 1.6350000000000002,
                        "bin_end": 1.7400000000000002,
                        "count": 0
                      },
                      {
                        "bin_start": 1.7400000000000002,
                        "bin_end": 1.8450000000000002,
                        "count": 1
                      },
                      {
                        "bin_start": 1.8450000000000002,
                        "bin_end": 1.9500000000000002,
                        "count": 1
                      },
                      {
                        "bin_start": 1.9500000000000002,
                        "bin_end": 2.055,
                        "count": 0
                      },
                      {
                        "bin_start": 2.055,
                        "bin_end": 2.16,
                        "count": 1
                      }
                    ]
                  }
                },
                {
                  "name": "_deepnote_index_column",
                  "dtype": "int64"
                }
              ],
              "rows": [
                {
                  "season": "2011/2012",
                  "avg_homegoals": 2.74,
                  "avg_awaygoals": 1.95,
                  "_deepnote_index_column": 0
                },
                {
                  "season": "2012/2013",
                  "avg_homegoals": 2.37,
                  "avg_awaygoals": 2.16,
                  "_deepnote_index_column": 1
                },
                {
                  "season": "2013/2014",
                  "avg_homegoals": 1.53,
                  "avg_awaygoals": 1.84,
                  "_deepnote_index_column": 2
                },
                {
                  "season": "2014/2015",
                  "avg_homegoals": 2.16,
                  "avg_awaygoals": 1.11,
                  "_deepnote_index_column": 3
                }
              ]
            },
            "text/plain": "      season  avg_homegoals  avg_awaygoals\n0  2011/2012           2.74           1.95\n1  2012/2013           2.37           2.16\n2  2013/2014           1.53           1.84\n3  2014/2015           2.16           1.11",
            "text/html": "<div>\n<style scoped>\n    .dataframe tbody tr th:only-of-type {\n        vertical-align: middle;\n    }\n\n    .dataframe tbody tr th {\n        vertical-align: top;\n    }\n\n    .dataframe thead th {\n        text-align: right;\n    }\n</style>\n<table border=\"1\" class=\"dataframe\">\n  <thead>\n    <tr style=\"text-align: right;\">\n      <th></th>\n      <th>season</th>\n      <th>avg_homegoals</th>\n      <th>avg_awaygoals</th>\n    </tr>\n  </thead>\n  <tbody>\n    <tr>\n      <th>0</th>\n      <td>2011/2012</td>\n      <td>2.74</td>\n      <td>1.95</td>\n    </tr>\n    <tr>\n      <th>1</th>\n      <td>2012/2013</td>\n      <td>2.37</td>\n      <td>2.16</td>\n    </tr>\n    <tr>\n      <th>2</th>\n      <td>2013/2014</td>\n      <td>1.53</td>\n      <td>1.84</td>\n    </tr>\n    <tr>\n      <th>3</th>\n      <td>2014/2015</td>\n      <td>2.16</td>\n      <td>1.11</td>\n    </tr>\n  </tbody>\n</table>\n</div>"
          },
          "metadata": {}
        }
      ],
      "outputs_reference": null,
      "execution_count": null,
      "block_group": "d5bd68c908024fe688112b78cfd18e1d"
    },
    {
      "cell_type": "markdown",
      "source": "For the 2012/2013 season, Manchester United recorded the highest average of goals scored as both home team (2.37 goals) and away team (2.16 goals). This season stood out as the most prolific in terms of goals for Manchester United, both home and away.",
      "metadata": {
        "formattedRanges": [
          {
            "type": "marks",
            "marks": {
              "bold": true
            },
            "toCodePoint": 24,
            "fromCodePoint": 8
          },
          {
            "type": "marks",
            "marks": {
              "bold": true
            },
            "toCodePoint": 118,
            "fromCodePoint": 108
          },
          {
            "type": "marks",
            "marks": {
              "bold": true
            },
            "toCodePoint": 145,
            "fromCodePoint": 135
          }
        ],
        "deepnote_app_block_visible": true,
        "cell_id": "eaac372931194785bd9c293aa1121009",
        "deepnote_cell_type": "text-cell-p"
      },
      "block_group": "37a6445e038d47e89d785a8945312baa"
    },
    {
      "cell_type": "markdown",
      "source": "## What percentage of Manchester's games did they win in each season?",
      "metadata": {
        "formattedRanges": [],
        "deepnote_app_block_visible": true,
        "cell_id": "1b3b691b6ecd4b52927092b818ce6fdf",
        "deepnote_cell_type": "text-cell-h2"
      },
      "block_group": "8630b5333c03406b999a6a06fa10fdb1"
    },
    {
      "cell_type": "code",
      "source": "df_5 = _deepnote_execute_sql('SELECT season,\\n       ROUND(AVG(CASE WHEN hometeam_id = 10260 AND home_goal > away_goal THEN 1\\n\t\t\t\t      WHEN awayteam_id = 10260 AND home_goal < away_goal THEN 0\\n\t\t\t\t      END),2) AS pct_homewins,\\n\t   ROUND(AVG(CASE WHEN awayteam_id = 10260 AND away_goal > home_goal THEN 1\\n\t\t\t\t      WHEN awayteam_id = 10260 AND away_goal < home_goal THEN 0\\n\t\t\t\t      END),2) AS pct_awaywins\\nFROM \\'match.csv\\'\\nGROUP BY season;\\n\t                  ', 'SQL_DEEPNOTE_DATAFRAME_SQL', audit_sql_comment='', sql_cache_mode='cache_disabled')\ndf_5",
      "metadata": {
        "source_hash": null,
        "execution_start": 1710044479836,
        "execution_millis": 493,
        "sql_integration_id": "deepnote-dataframe-sql",
        "deepnote_variable_name": "df_5",
        "deepnote_to_be_reexecuted": false,
        "deepnote_app_block_visible": true,
        "cell_id": "0cc365ef17dc427a8dd9a3ea812f79cd",
        "deepnote_cell_type": "sql",
        "deepnote_sql_source": "SELECT season,\n       ROUND(AVG(CASE WHEN hometeam_id = 10260 AND home_goal > away_goal THEN 1\n\t\t\t\t      WHEN awayteam_id = 10260 AND home_goal < away_goal THEN 0\n\t\t\t\t      END),2) AS pct_homewins,\n\t   ROUND(AVG(CASE WHEN awayteam_id = 10260 AND away_goal > home_goal THEN 1\n\t\t\t\t      WHEN awayteam_id = 10260 AND away_goal < home_goal THEN 0\n\t\t\t\t      END),2) AS pct_awaywins\nFROM 'match.csv'\nGROUP BY season;\n\t                  "
      },
      "outputs": [
        {
          "output_type": "execute_result",
          "execution_count": 14,
          "data": {
            "application/vnd.deepnote.dataframe.v3+json": {
              "column_count": 3,
              "row_count": 4,
              "columns": [
                {
                  "name": "season",
                  "dtype": "object",
                  "stats": {
                    "unique_count": 4,
                    "nan_count": 0,
                    "categories": [
                      {
                        "name": "2011/2012",
                        "count": 1
                      },
                      {
                        "name": "2012/2013",
                        "count": 1
                      },
                      {
                        "name": "2 others",
                        "count": 2
                      }
                    ]
                  }
                },
                {
                  "name": "pct_homewins",
                  "dtype": "float64",
                  "stats": {
                    "unique_count": 4,
                    "nan_count": 0,
                    "min": "0.47",
                    "max": "0.7",
                    "histogram": [
                      {
                        "bin_start": 0.47,
                        "bin_end": 0.493,
                        "count": 1
                      },
                      {
                        "bin_start": 0.493,
                        "bin_end": 0.516,
                        "count": 0
                      },
                      {
                        "bin_start": 0.516,
                        "bin_end": 0.5389999999999999,
                        "count": 0
                      },
                      {
                        "bin_start": 0.5389999999999999,
                        "bin_end": 0.5619999999999999,
                        "count": 1
                      },
                      {
                        "bin_start": 0.5619999999999999,
                        "bin_end": 0.585,
                        "count": 1
                      },
                      {
                        "bin_start": 0.585,
                        "bin_end": 0.608,
                        "count": 0
                      },
                      {
                        "bin_start": 0.608,
                        "bin_end": 0.631,
                        "count": 0
                      },
                      {
                        "bin_start": 0.631,
                        "bin_end": 0.6539999999999999,
                        "count": 0
                      },
                      {
                        "bin_start": 0.6539999999999999,
                        "bin_end": 0.6769999999999999,
                        "count": 0
                      },
                      {
                        "bin_start": 0.6769999999999999,
                        "bin_end": 0.7,
                        "count": 1
                      }
                    ]
                  }
                },
                {
                  "name": "pct_awaywins",
                  "dtype": "float64",
                  "stats": {
                    "unique_count": 4,
                    "nan_count": 0,
                    "min": "0.55",
                    "max": "0.86",
                    "histogram": [
                      {
                        "bin_start": 0.55,
                        "bin_end": 0.5810000000000001,
                        "count": 1
                      },
                      {
                        "bin_start": 0.5810000000000001,
                        "bin_end": 0.612,
                        "count": 0
                      },
                      {
                        "bin_start": 0.612,
                        "bin_end": 0.643,
                        "count": 0
                      },
                      {
                        "bin_start": 0.643,
                        "bin_end": 0.674,
                        "count": 1
                      },
                      {
                        "bin_start": 0.674,
                        "bin_end": 0.7050000000000001,
                        "count": 0
                      },
                      {
                        "bin_start": 0.7050000000000001,
                        "bin_end": 0.736,
                        "count": 0
                      },
                      {
                        "bin_start": 0.736,
                        "bin_end": 0.767,
                        "count": 0
                      },
                      {
                        "bin_start": 0.767,
                        "bin_end": 0.798,
                        "count": 0
                      },
                      {
                        "bin_start": 0.798,
                        "bin_end": 0.829,
                        "count": 1
                      },
                      {
                        "bin_start": 0.829,
                        "bin_end": 0.86,
                        "count": 1
                      }
                    ]
                  }
                },
                {
                  "name": "_deepnote_index_column",
                  "dtype": "int64"
                }
              ],
              "rows": [
                {
                  "season": "2011/2012",
                  "pct_homewins": 0.54,
                  "pct_awaywins": 0.81,
                  "_deepnote_index_column": 0
                },
                {
                  "season": "2012/2013",
                  "pct_homewins": 0.57,
                  "pct_awaywins": 0.86,
                  "_deepnote_index_column": 1
                },
                {
                  "season": "2013/2014",
                  "pct_homewins": 0.47,
                  "pct_awaywins": 0.67,
                  "_deepnote_index_column": 2
                },
                {
                  "season": "2014/2015",
                  "pct_homewins": 0.7,
                  "pct_awaywins": 0.55,
                  "_deepnote_index_column": 3
                }
              ]
            },
            "text/plain": "      season  pct_homewins  pct_awaywins\n0  2011/2012          0.54          0.81\n1  2012/2013          0.57          0.86\n2  2013/2014          0.47          0.67\n3  2014/2015          0.70          0.55",
            "text/html": "<div>\n<style scoped>\n    .dataframe tbody tr th:only-of-type {\n        vertical-align: middle;\n    }\n\n    .dataframe tbody tr th {\n        vertical-align: top;\n    }\n\n    .dataframe thead th {\n        text-align: right;\n    }\n</style>\n<table border=\"1\" class=\"dataframe\">\n  <thead>\n    <tr style=\"text-align: right;\">\n      <th></th>\n      <th>season</th>\n      <th>pct_homewins</th>\n      <th>pct_awaywins</th>\n    </tr>\n  </thead>\n  <tbody>\n    <tr>\n      <th>0</th>\n      <td>2011/2012</td>\n      <td>0.54</td>\n      <td>0.81</td>\n    </tr>\n    <tr>\n      <th>1</th>\n      <td>2012/2013</td>\n      <td>0.57</td>\n      <td>0.86</td>\n    </tr>\n    <tr>\n      <th>2</th>\n      <td>2013/2014</td>\n      <td>0.47</td>\n      <td>0.67</td>\n    </tr>\n    <tr>\n      <th>3</th>\n      <td>2014/2015</td>\n      <td>0.70</td>\n      <td>0.55</td>\n    </tr>\n  </tbody>\n</table>\n</div>"
          },
          "metadata": {}
        }
      ],
      "outputs_reference": null,
      "execution_count": null,
      "block_group": "f49208be57974136a0bc3ec5b67c7243"
    },
    {
      "cell_type": "markdown",
      "source": "Overall, the team showed a solid performance both at home and away throughout the seasons analysed. Of particular note was the 2014/2015 season, where Manchester United had a remarkably high winning percentage at home (70%), while their away performance was slightly lower.",
      "metadata": {
        "formattedRanges": [
          {
            "type": "marks",
            "marks": {
              "bold": true
            },
            "toCodePoint": 143,
            "fromCodePoint": 123
          },
          {
            "type": "marks",
            "marks": {
              "bold": true,
              "italic": true
            },
            "toCodePoint": 222,
            "fromCodePoint": 219
          }
        ],
        "deepnote_app_block_visible": true,
        "cell_id": "bad42b64c7bd450c88a2ffd82fdc0e39",
        "deepnote_cell_type": "text-cell-p"
      },
      "block_group": "ecffad8e545a41018444b2adc6844236"
    },
    {
      "cell_type": "markdown",
      "source": "<a style='text-decoration:none;line-height:16px;display:flex;color:#5B5B62;padding:10px;justify-content:end;' href='https://deepnote.com?utm_source=created-in-deepnote-cell&projectId=c5c689ae-d718-41e9-a35e-60b679021dca' target=\"_blank\">\n<img alt='Created in deepnote.com' style='display:inline;max-height:16px;margin:0px;margin-right:7.5px;' src='data:image/svg+xml;base64,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' > </img>\nCreated in <span style='font-weight:600;margin-left:4px;'>Deepnote</span></a>",
      "metadata": {
        "created_in_deepnote_cell": true,
        "deepnote_cell_type": "markdown"
      }
    }
  ],
  "nbformat": 4,
  "nbformat_minor": 0,
  "metadata": {
    "deepnote_persisted_session": {
      "createdAt": "2024-03-10T05:38:53.001Z"
    },
    "deepnote_app_layout": "powerful-article",
    "deepnote_app_table_of_contents_enabled": true,
    "deepnote_app_reactivity_enabled": true,
    "deepnote_notebook_id": "de7c13b8de1c442ba005fa8a055c5544",
    "deepnote_execution_queue": []
  }
}